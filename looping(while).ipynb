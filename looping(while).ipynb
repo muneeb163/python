{
  "nbformat": 4,
  "nbformat_minor": 0,
  "metadata": {
    "colab": {
      "provenance": []
    },
    "kernelspec": {
      "name": "python3",
      "display_name": "Python 3"
    },
    "language_info": {
      "name": "python"
    }
  },
  "cells": [
    {
      "cell_type": "code",
      "source": [
        "#looping\n",
        "#types\n",
        "#1.while\n",
        "#2.for\n"
      ],
      "metadata": {
        "id": "zLt62zh8NqGF"
      },
      "execution_count": null,
      "outputs": []
    },
    {
      "cell_type": "code",
      "source": [
        "#example of while\n",
        "b=1\n",
        "while b<10:\n",
        " print(b)\n",
        " b=b+1"
      ],
      "metadata": {
        "colab": {
          "base_uri": "https://localhost:8080/"
        },
        "id": "2UWM4bdVN4W0",
        "outputId": "a9b80edf-323a-45e8-f504-6c305c8f7d82"
      },
      "execution_count": 21,
      "outputs": [
        {
          "output_type": "stream",
          "name": "stdout",
          "text": [
            "1\n",
            "2\n",
            "3\n",
            "4\n",
            "5\n",
            "6\n",
            "7\n",
            "8\n",
            "9\n"
          ]
        }
      ]
    },
    {
      "cell_type": "code",
      "source": [
        "c=10\n",
        "while c>5:\n",
        "  print(c)\n",
        "  c=c-1\n",
        "\n"
      ],
      "metadata": {
        "colab": {
          "base_uri": "https://localhost:8080/"
        },
        "id": "x5Ll7MCqPbCk",
        "outputId": "744eaf8a-7250-4098-835c-93a7018198f4"
      },
      "execution_count": 24,
      "outputs": [
        {
          "output_type": "stream",
          "name": "stdout",
          "text": [
            "10\n",
            "9\n",
            "8\n",
            "7\n",
            "6\n"
          ]
        }
      ]
    },
    {
      "cell_type": "code",
      "source": [
        "d = 4\n",
        "while d < 10:\n",
        " print(d)\n",
        " d=d+1"
      ],
      "metadata": {
        "colab": {
          "base_uri": "https://localhost:8080/"
        },
        "id": "WxsAKP4YQLWM",
        "outputId": "e33412aa-c742-4bb2-9abc-97633c889f2a"
      },
      "execution_count": 48,
      "outputs": [
        {
          "output_type": "stream",
          "name": "stdout",
          "text": [
            "4\n",
            "5\n",
            "6\n",
            "7\n",
            "8\n",
            "9\n"
          ]
        }
      ]
    },
    {
      "cell_type": "code",
      "source": [
        "f=0\n",
        "while f<10:\n",
        " print(f)\n",
        " f=f+1"
      ],
      "metadata": {
        "colab": {
          "base_uri": "https://localhost:8080/"
        },
        "id": "rcc-6yHKSQdL",
        "outputId": "bd605a28-e402-44d0-f4de-65b4ff79397e"
      },
      "execution_count": 49,
      "outputs": [
        {
          "output_type": "stream",
          "name": "stdout",
          "text": [
            "0\n",
            "1\n",
            "2\n",
            "3\n",
            "4\n",
            "5\n",
            "6\n",
            "7\n",
            "8\n",
            "9\n"
          ]
        }
      ]
    },
    {
      "cell_type": "code",
      "source": [
        "g=10\n",
        "while g>5:\n",
        " print(g)\n",
        " g=g-1"
      ],
      "metadata": {
        "colab": {
          "base_uri": "https://localhost:8080/"
        },
        "id": "l1mL0yPgSiFT",
        "outputId": "7ebe5e8c-e91a-4c8e-a855-08d27188dd95"
      },
      "execution_count": 53,
      "outputs": [
        {
          "output_type": "stream",
          "name": "stdout",
          "text": [
            "10\n",
            "9\n",
            "8\n",
            "7\n",
            "6\n"
          ]
        }
      ]
    },
    {
      "cell_type": "code",
      "source": [
        "h=16\n",
        "while h>12:\n",
        " print(h)\n",
        " h=h-1"
      ],
      "metadata": {
        "colab": {
          "base_uri": "https://localhost:8080/"
        },
        "id": "h3rD0eJ1S28s",
        "outputId": "1f2e6917-ab19-4cc7-879c-311420f556fa"
      },
      "execution_count": 54,
      "outputs": [
        {
          "output_type": "stream",
          "name": "stdout",
          "text": [
            "16\n",
            "15\n",
            "14\n",
            "13\n"
          ]
        }
      ]
    },
    {
      "cell_type": "code",
      "source": [
        "r=23\n",
        "while r>20:\n",
        "  print(r)\n",
        "  r=r-1"
      ],
      "metadata": {
        "colab": {
          "base_uri": "https://localhost:8080/"
        },
        "id": "OM14gCuRTM4T",
        "outputId": "f9f5bd46-ac7e-4411-f2fd-1c1accda1ac8"
      },
      "execution_count": 60,
      "outputs": [
        {
          "output_type": "stream",
          "name": "stdout",
          "text": [
            "23\n",
            "22\n",
            "21\n"
          ]
        }
      ]
    }
  ]
}