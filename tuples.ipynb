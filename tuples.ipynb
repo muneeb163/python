{
  "nbformat": 4,
  "nbformat_minor": 0,
  "metadata": {
    "colab": {
      "provenance": []
    },
    "kernelspec": {
      "name": "python3",
      "display_name": "Python 3"
    },
    "language_info": {
      "name": "python"
    }
  },
  "cells": [
    {
      "cell_type": "code",
      "execution_count": 2,
      "metadata": {
        "colab": {
          "base_uri": "https://localhost:8080/"
        },
        "id": "Kye2tQC6i7w0",
        "outputId": "6cfe8075-569d-4fea-e915-6326c8ba3383"
      },
      "outputs": [
        {
          "output_type": "stream",
          "name": "stdout",
          "text": [
            "(12, 45, 'pakistan', 3.5)\n",
            "<class 'tuple'>\n"
          ]
        }
      ],
      "source": [
        "#tuple\n",
        "item=(12,45,'pakistan',3.5)\n",
        "print(item)\n",
        "print(type(item))\n"
      ]
    },
    {
      "cell_type": "code",
      "source": [
        "students=(\"ali\",\"usman\",\"khslid\")\n",
        "print(students)\n",
        "print(type(students))"
      ],
      "metadata": {
        "colab": {
          "base_uri": "https://localhost:8080/"
        },
        "id": "k7J4Tb-ekNqV",
        "outputId": "33ab5de2-810f-449e-e2b8-608e69e14369"
      },
      "execution_count": 4,
      "outputs": [
        {
          "output_type": "stream",
          "name": "stdout",
          "text": [
            "('ali', 'usman', 'khslid')\n",
            "<class 'tuple'>\n"
          ]
        }
      ]
    },
    {
      "cell_type": "code",
      "source": [],
      "metadata": {
        "id": "M_5WmGr1k7tl"
      },
      "execution_count": null,
      "outputs": []
    }
  ]
}