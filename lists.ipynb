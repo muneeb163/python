{
  "nbformat": 4,
  "nbformat_minor": 0,
  "metadata": {
    "colab": {
      "provenance": []
    },
    "kernelspec": {
      "name": "python3",
      "display_name": "Python 3"
    },
    "language_info": {
      "name": "python"
    }
  },
  "cells": [
    {
      "cell_type": "code",
      "execution_count": 2,
      "metadata": {
        "colab": {
          "base_uri": "https://localhost:8080/"
        },
        "id": "-3mKJsBAc_1m",
        "outputId": "04228de9-3759-415e-afe4-a80f043ddcbd"
      },
      "outputs": [
        {
          "output_type": "execute_result",
          "data": {
            "text/plain": [
              "45"
            ]
          },
          "metadata": {},
          "execution_count": 2
        }
      ],
      "source": [
        "mix=[\"ali\",\"usman\",21,45]\n",
        "mix[3]"
      ]
    },
    {
      "cell_type": "code",
      "source": [
        "mix[1]"
      ],
      "metadata": {
        "colab": {
          "base_uri": "https://localhost:8080/",
          "height": 35
        },
        "id": "uRSPkVBHdWXa",
        "outputId": "554f5674-875b-4bc6-ae37-a5e88a5c6f90"
      },
      "execution_count": 3,
      "outputs": [
        {
          "output_type": "execute_result",
          "data": {
            "text/plain": [
              "'usman'"
            ],
            "application/vnd.google.colaboratory.intrinsic+json": {
              "type": "string"
            }
          },
          "metadata": {},
          "execution_count": 3
        }
      ]
    },
    {
      "cell_type": "code",
      "source": [
        "mix[2]"
      ],
      "metadata": {
        "colab": {
          "base_uri": "https://localhost:8080/"
        },
        "id": "_PMdUZNwdaWp",
        "outputId": "5fd3b714-cccc-44fd-b31e-17f721f43b05"
      },
      "execution_count": 4,
      "outputs": [
        {
          "output_type": "execute_result",
          "data": {
            "text/plain": [
              "21"
            ]
          },
          "metadata": {},
          "execution_count": 4
        }
      ]
    },
    {
      "cell_type": "code",
      "source": [
        "mix[0]"
      ],
      "metadata": {
        "colab": {
          "base_uri": "https://localhost:8080/",
          "height": 35
        },
        "id": "2n9CCp3fddW6",
        "outputId": "95aaa5aa-e677-4f14-ebb7-469b99db3ce8"
      },
      "execution_count": 5,
      "outputs": [
        {
          "output_type": "execute_result",
          "data": {
            "text/plain": [
              "'ali'"
            ],
            "application/vnd.google.colaboratory.intrinsic+json": {
              "type": "string"
            }
          },
          "metadata": {},
          "execution_count": 5
        }
      ]
    },
    {
      "cell_type": "code",
      "source": [
        "mix[-1]"
      ],
      "metadata": {
        "colab": {
          "base_uri": "https://localhost:8080/"
        },
        "id": "GSYs7XP-dtQ5",
        "outputId": "12e9f2e7-3093-4e4c-f6f0-ceefe64c713d"
      },
      "execution_count": 6,
      "outputs": [
        {
          "output_type": "execute_result",
          "data": {
            "text/plain": [
              "45"
            ]
          },
          "metadata": {},
          "execution_count": 6
        }
      ]
    },
    {
      "cell_type": "code",
      "source": [
        "mix[-4]"
      ],
      "metadata": {
        "colab": {
          "base_uri": "https://localhost:8080/",
          "height": 35
        },
        "id": "H8OgQbmjdw-K",
        "outputId": "7ed30f97-f231-4408-f4e1-5ffd8a3eca2c"
      },
      "execution_count": 7,
      "outputs": [
        {
          "output_type": "execute_result",
          "data": {
            "text/plain": [
              "'ali'"
            ],
            "application/vnd.google.colaboratory.intrinsic+json": {
              "type": "string"
            }
          },
          "metadata": {},
          "execution_count": 7
        }
      ]
    },
    {
      "cell_type": "code",
      "source": [
        "mix[-2]"
      ],
      "metadata": {
        "colab": {
          "base_uri": "https://localhost:8080/"
        },
        "id": "6pH-5nrGd2lm",
        "outputId": "067e2ff5-e723-4be5-d574-07ffeb9c1536"
      },
      "execution_count": 8,
      "outputs": [
        {
          "output_type": "execute_result",
          "data": {
            "text/plain": [
              "21"
            ]
          },
          "metadata": {},
          "execution_count": 8
        }
      ]
    },
    {
      "cell_type": "code",
      "source": [
        "mix[-3]"
      ],
      "metadata": {
        "colab": {
          "base_uri": "https://localhost:8080/",
          "height": 35
        },
        "id": "uN6NtFKmd5jP",
        "outputId": "1e1409ce-36ee-4506-8c54-3d06783d2fec"
      },
      "execution_count": 9,
      "outputs": [
        {
          "output_type": "execute_result",
          "data": {
            "text/plain": [
              "'usman'"
            ],
            "application/vnd.google.colaboratory.intrinsic+json": {
              "type": "string"
            }
          },
          "metadata": {},
          "execution_count": 9
        }
      ]
    },
    {
      "cell_type": "code",
      "source": [
        "text=\"we are learning python string operation \"\n",
        "letter_string=text[8]\n",
        "print(letter_string)"
      ],
      "metadata": {
        "id": "tWYpP0DItF9g",
        "outputId": "ec15608d-1736-41c0-d41d-85d28db1a001",
        "colab": {
          "base_uri": "https://localhost:8080/"
        }
      },
      "execution_count": 6,
      "outputs": [
        {
          "output_type": "stream",
          "name": "stdout",
          "text": [
            "e\n"
          ]
        }
      ]
    },
    {
      "cell_type": "code",
      "source": [
        "letter_string=text[5]\n",
        "print(letter_string)"
      ],
      "metadata": {
        "id": "uX5IYUeVtssI",
        "outputId": "e75a9485-388b-425b-9d0a-da2232131311",
        "colab": {
          "base_uri": "https://localhost:8080/"
        }
      },
      "execution_count": 7,
      "outputs": [
        {
          "output_type": "stream",
          "name": "stdout",
          "text": [
            "e\n"
          ]
        }
      ]
    },
    {
      "cell_type": "code",
      "source": [
        "letter_string=text[13]\n",
        "print(letter_string)"
      ],
      "metadata": {
        "id": "gD7YrLANuL_R",
        "outputId": "242e4786-bc28-4758-fac6-3037177a7c03",
        "colab": {
          "base_uri": "https://localhost:8080/"
        }
      },
      "execution_count": 8,
      "outputs": [
        {
          "output_type": "stream",
          "name": "stdout",
          "text": [
            "n\n"
          ]
        }
      ]
    },
    {
      "cell_type": "code",
      "source": [
        "positive_sub_string=text[5:8]\n",
        "print(positive_sub_string)"
      ],
      "metadata": {
        "id": "j4ugw2b5uk94",
        "outputId": "21c346e8-a503-45da-818b-678ca31bfa22",
        "colab": {
          "base_uri": "https://localhost:8080/"
        }
      },
      "execution_count": 10,
      "outputs": [
        {
          "output_type": "stream",
          "name": "stdout",
          "text": [
            "e l\n"
          ]
        }
      ]
    },
    {
      "cell_type": "code",
      "source": [
        "negative_sub_string=text[-12:-23]\n",
        "print(negative_sub_string)"
      ],
      "metadata": {
        "id": "MaJPVKh2vuC5",
        "outputId": "4e2b8509-3f6c-4ea7-c718-a29828afbace",
        "colab": {
          "base_uri": "https://localhost:8080/"
        }
      },
      "execution_count": 11,
      "outputs": [
        {
          "output_type": "stream",
          "name": "stdout",
          "text": [
            "\n"
          ]
        }
      ]
    }
  ]
}