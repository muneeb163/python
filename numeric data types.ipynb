{
  "nbformat": 4,
  "nbformat_minor": 0,
  "metadata": {
    "colab": {
      "provenance": []
    },
    "kernelspec": {
      "name": "python3",
      "display_name": "Python 3"
    },
    "language_info": {
      "name": "python"
    }
  },
  "cells": [
    {
      "cell_type": "code",
      "source": [
        "# numeric data type\n",
        "#int\n",
        "#float\n",
        "#complex\n"
      ],
      "metadata": {
        "id": "IqMBVOfgm3Ws"
      },
      "execution_count": null,
      "outputs": []
    },
    {
      "cell_type": "code",
      "source": [
        "var_int=456\n",
        "print(var_int)\n",
        "print(type(var_int))"
      ],
      "metadata": {
        "colab": {
          "base_uri": "https://localhost:8080/"
        },
        "id": "TtEkOHb-oOPE",
        "outputId": "956d5272-ea7a-4789-bc4b-bde9f3bcd4f6"
      },
      "execution_count": 3,
      "outputs": [
        {
          "output_type": "stream",
          "name": "stdout",
          "text": [
            "456\n",
            "<class 'int'>\n"
          ]
        }
      ]
    },
    {
      "cell_type": "code",
      "source": [
        "var_float=4.5\n",
        "print(var_float)\n",
        "print(type(var_float))"
      ],
      "metadata": {
        "colab": {
          "base_uri": "https://localhost:8080/"
        },
        "id": "fCEyLWjcosJU",
        "outputId": "14334967-839b-4ac6-8bb1-2111f3ba2951"
      },
      "execution_count": 4,
      "outputs": [
        {
          "output_type": "stream",
          "name": "stdout",
          "text": [
            "4.5\n",
            "<class 'float'>\n"
          ]
        }
      ]
    },
    {
      "cell_type": "code",
      "source": [
        "var_int=45+5j\n",
        "print(var_int)\n",
        "print(type(var_int))"
      ],
      "metadata": {
        "colab": {
          "base_uri": "https://localhost:8080/"
        },
        "id": "uPBv74kAoPYU",
        "outputId": "3adfdc46-17c9-47bf-bf4e-a6f1adb2f0d1"
      },
      "execution_count": 5,
      "outputs": [
        {
          "output_type": "stream",
          "name": "stdout",
          "text": [
            "(45+5j)\n",
            "<class 'complex'>\n"
          ]
        }
      ]
    }
  ]
}